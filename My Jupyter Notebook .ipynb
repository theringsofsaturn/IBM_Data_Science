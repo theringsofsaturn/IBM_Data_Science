{
    "cells": [
        {
            "cell_type": "markdown",
            "metadata": {
                "collapsed": true
            },
            "source": "# My Jupyter Notebook on IBM Data Science Experience"
        },
        {
            "cell_type": "markdown",
            "metadata": {},
            "source": "**Emilian Kasemi**  \nSoftware Developer"
        },
        {
            "cell_type": "markdown",
            "metadata": {},
            "source": "_I am interested in Data Science because Data Science is the future! I am very excited because this field is a journey of discovery, insights, and innovation. \nData Science change our world in amazing ways, from making new life-saving medicines to self-driving cars. This is a rapidly evolving area, you\u2019ve got to keep \nlearning to keep up. If you\u2019re not, you\u2019re falling behind. It is is incredibly exciting in my view. However Big Data also has negative effects in opinion, \nsuch as reducing privacy and security._\n"
        },
        {
            "cell_type": "markdown",
            "metadata": {},
            "source": "### Here is my code for this assignment. \"Launching the rocket!\" "
        },
        {
            "cell_type": "code",
            "execution_count": 3,
            "metadata": {},
            "outputs": [
                {
                    "name": "stdout",
                    "output_type": "stream",
                    "text": "Launching the rocket in...\n\n10\n9\n8\n7\n6\n5\n4\n3\n2\n1\nLiftoff!...\n\n\n      ..\n     ....\n    ......\n   ........\n  ..........\n ............\n..............\n.            .\n.            .\n.            .\n.            .\n.            .\n.            .\n.            .\n.            .\n.            .\n.            .\n.            .\n.            .\n.            .\n.            .\n.            .\n.            .\n.            .\n.            .\n.            .\n.            .\n.            .\n..............\n  /\\  /\\  /\\\n"
                }
            ],
            "source": "print(\"Launching the rocket in...\\n\")\ni = 10\nprint(i)\nwhile i <= 10:\n    i = i - 1\n    if i == 0:\n        print(\"Liftoff!...\")\n        break\n    print(i)\n    \nprint(\"\\n\\n      ..\\n     ....\\n    ......\\n   ........\\n  ..........\\n ............\\n..............\\n.            .\\n.            .\\n.            .\\n.            .\\n.            .\\n.            .\\n.            .\\n.            .\\n.            .\\n.            .\\n.            .\\n.            .\\n.            .\\n.            .\\n.            .\\n.            .\\n.            .\\n.            .\\n.            .\\n.            .\\n.            .\\n..............\\n  /\\  /\\  /\\\\\")"
        },
        {
            "cell_type": "markdown",
            "metadata": {},
            "source": " Contact me through social media:  \n<a target=\"_blank\" href=\"https://www.facebook.com/profile.php?id=822108974\"><img src=\"https://www.facebook.com/images/fb_icon_325x325.png\" height=\"42\" width=\"42\" border = 0></a>  \n \n<a target=\"_blank\" href=\"https://www.instagram.com/the_rings_of_saturn/\"><img src=\"https://cdn.iconscout.com/icon/free/png-256/instagram-1868978-1583142.png\" height=\"42\" width=\"42\"><a/>  \n   \n<a target=\"_blank\" href=\"https://www.goodreads.com/the_rings_of_saturn\"><img src=\"https://www.iconninja.com/files/174/3/717/goodreads-icon.png\" height=\"42\" width=\"42\"><a/>   "
        }
    ],
    "metadata": {
        "kernelspec": {
            "display_name": "Python 3.6",
            "language": "python",
            "name": "python3"
        },
        "language_info": {
            "codemirror_mode": {
                "name": "ipython",
                "version": 3
            },
            "file_extension": ".py",
            "mimetype": "text/x-python",
            "name": "python",
            "nbconvert_exporter": "python",
            "pygments_lexer": "ipython3",
            "version": "3.6.9"
        }
    },
    "nbformat": 4,
    "nbformat_minor": 1
}